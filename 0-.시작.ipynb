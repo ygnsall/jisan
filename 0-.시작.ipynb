{
  "nbformat": 4,
  "nbformat_minor": 0,
  "metadata": {
    "colab": {
      "provenance": [],
      "authorship_tag": "ABX9TyNfpAioHFAH4jwBbAAsj8Cd",
      "include_colab_link": true
    },
    "kernelspec": {
      "name": "python3",
      "display_name": "Python 3"
    },
    "language_info": {
      "name": "python"
    }
  },
  "cells": [
    {
      "cell_type": "markdown",
      "metadata": {
        "id": "view-in-github",
        "colab_type": "text"
      },
      "source": [
        "<a href=\"https://colab.research.google.com/github/ygnsall/jisan/blob/main/0-.%EC%8B%9C%EC%9E%91.ipynb\" target=\"_parent\"><img src=\"https://colab.research.google.com/assets/colab-badge.svg\" alt=\"Open In Colab\"/></a>"
      ]
    },
    {
      "cell_type": "code",
      "execution_count": null,
      "metadata": {
        "id": "wD_jhYmxe5-B"
      },
      "outputs": [],
      "source": [
        "# comment (주석, 댓글)\n",
        "# 안녕하세요\n",
        "# 안녕\n",
        "# 단축키 (Ctrl + /)\n",
        "\n",
        "# 안녕하세요~\n",
        "\n",
        "# 안녕\n",
        "# 안녕\n",
        "# 안녕\n",
        "# 안녕"
      ]
    }
  ]
}